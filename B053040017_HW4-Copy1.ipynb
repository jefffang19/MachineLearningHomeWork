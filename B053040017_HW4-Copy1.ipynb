{
 "cells": [
  {
   "cell_type": "code",
   "execution_count": 1,
   "metadata": {},
   "outputs": [
    {
     "name": "stdout",
     "output_type": "stream",
     "text": [
      "WARNING:tensorflow:From /home/jeff/anaconda3/lib/python3.7/site-packages/tensorflow/python/compat/compat.py:175: disable_resource_variables (from tensorflow.python.ops.variable_scope) is deprecated and will be removed in a future version.\n",
      "Instructions for updating:\n",
      "non-resource variables are not supported in the long term\n"
     ]
    }
   ],
   "source": [
    "import tensorflow.compat.v1 as tf\n",
    "tf.disable_v2_behavior()"
   ]
  },
  {
   "cell_type": "code",
   "execution_count": 2,
   "metadata": {},
   "outputs": [],
   "source": [
    "import numpy as np"
   ]
  },
  {
   "cell_type": "code",
   "execution_count": 3,
   "metadata": {},
   "outputs": [],
   "source": [
    "import random"
   ]
  },
  {
   "cell_type": "code",
   "execution_count": 4,
   "metadata": {
    "scrolled": false
   },
   "outputs": [],
   "source": [
    "#prepare data\n",
    "#f(x)= x**3 + x**2 - x - 1\n",
    "X = tf.placeholder(tf.float32)\n",
    "Y = X**3+X**2-X-1\n",
    "\n",
    "train_x = list(np.arange(-100,100,0.1))\n",
    "random.shuffle(train_x)\n",
    "\n",
    "with tf.Session() as sess:\n",
    "    #add noise\n",
    "    train_y = sess.run(Y, {X:train_x})+np.random.normal(0,0.09)\n",
    "    #print(train_x,train_y)"
   ]
  },
  {
   "cell_type": "code",
   "execution_count": 5,
   "metadata": {},
   "outputs": [],
   "source": [
    "#some training args\n",
    "nsteps = 300\n",
    "#batch_size = 4\n",
    "show_step = True\n",
    "lr = 0.1\n",
    "\n",
    "#num of units in hidden layer\n",
    "h1 = 100\n",
    "h2 = 200"
   ]
  },
  {
   "cell_type": "code",
   "execution_count": 6,
   "metadata": {},
   "outputs": [],
   "source": [
    "def fc_layer(x, n_units, name):\n",
    "    input_dim = x.get_shape()[1]\n",
    "    #print out hidden layer shape\n",
    "    print('input shape '+name+'= '+str(input_dim))\n",
    "    w = tf.get_variable(\"W\"+name, dtype=tf.float32, shape=[input_dim, n_units], initializer=tf.truncated_normal_initializer(stddev=0.01))\n",
    "    b = tf.get_variable('b'+name, dtype=tf.float32, initializer=tf.constant(0., shape=[n_units], dtype=tf.float32))\n",
    "    return tf.matmul(x,w)+b\n",
    "\n",
    "    "
   ]
  },
  {
   "cell_type": "code",
   "execution_count": 7,
   "metadata": {},
   "outputs": [],
   "source": [
    "def nnet(x):\n",
    "    layer1 = fc_layer(x, h1, 'fc1')\n",
    "    layer1 = tf.nn.relu(layer1)\n",
    "    layer2 = fc_layer(layer1, h2, 'fc2')\n",
    "    layer2 = tf.nn.relu(layer2)\n",
    "    layerout = fc_layer(layer2, 1, 'fco')\n",
    "    return layerout"
   ]
  },
  {
   "cell_type": "code",
   "execution_count": 8,
   "metadata": {},
   "outputs": [
    {
     "name": "stdout",
     "output_type": "stream",
     "text": [
      "input shape fc1= 1\n",
      "WARNING:tensorflow:From /home/jeff/anaconda3/lib/python3.7/site-packages/tensorflow/python/framework/op_def_library.py:263: colocate_with (from tensorflow.python.framework.ops) is deprecated and will be removed in a future version.\n",
      "Instructions for updating:\n",
      "Colocations handled automatically by placer.\n",
      "input shape fc2= 100\n",
      "input shape fco= 200\n"
     ]
    }
   ],
   "source": [
    "#input tensor\n",
    "X = tf.placeholder(dtype=tf.float32, shape=[None, 1], name='X')\n",
    "y = tf.placeholder(dtype=tf.float32, shape=[None, 1], name='y')\n",
    "\n",
    "#construct model\n",
    "logits = nnet(X)\n"
   ]
  },
  {
   "cell_type": "code",
   "execution_count": 9,
   "metadata": {},
   "outputs": [],
   "source": [
    "loss_opt = tf.reduce_mean(tf.square(y-logits))\n",
    "optimizer = tf.train.AdamOptimizer(learning_rate = lr)\n",
    "train = optimizer.minimize(loss_opt)\n",
    "\n",
    "correct_predict = tf.equal(tf.argmax(logits,1), tf.argmax(y,1))\n",
    "\n",
    "accuracy = tf.reduce_mean(tf.cast(correct_predict, tf.float32))"
   ]
  },
  {
   "cell_type": "code",
   "execution_count": 10,
   "metadata": {},
   "outputs": [],
   "source": [
    "def cut_batch(x,y,size,index):\n",
    "    sub_x = []\n",
    "    sub_y = []\n",
    "    for i in range(size):\n",
    "        cur = size*index+i\n",
    "        if(cur < len(x)):\n",
    "            sub_x.append(x[size*index+i])\n",
    "            sub_y.append(y[size*index+i])\n",
    "        else: break\n",
    "        \n",
    "    return sub_x, sub_y"
   ]
  },
  {
   "cell_type": "code",
   "execution_count": 11,
   "metadata": {},
   "outputs": [],
   "source": [
    "import matplotlib.pyplot as plt"
   ]
  },
  {
   "cell_type": "code",
   "execution_count": 12,
   "metadata": {
    "scrolled": true
   },
   "outputs": [
    {
     "data": {
      "text/plain": [
       "<matplotlib.collections.PathCollection at 0x7fba8008c6d8>"
      ]
     },
     "execution_count": 12,
     "metadata": {},
     "output_type": "execute_result"
    },
    {
     "data": {
      "image/png": "[encoded data removed]",
      "text/plain": [
       "<Figure size 432x288 with 1 Axes>"
      ]
     },
     "metadata": {
      "needs_background": "light"
     },
     "output_type": "display_data"
    }
   ],
   "source": [
    "fig,ax = plt.subplots()\n",
    "fig.set_tight_layout(True)\n",
    "ax.scatter(train_x,train_y)"
   ]
  },
  {
   "cell_type": "code",
   "execution_count": 13,
   "metadata": {},
   "outputs": [],
   "source": [
    "#train data input format config\n",
    "train_x = np.array(train_x,float)[:,np.newaxis]\n",
    "train_y = np.array(train_y,float)[:,np.newaxis]"
   ]
  },
  {
   "cell_type": "code",
   "execution_count": 14,
   "metadata": {
    "scrolled": false
   },
   "outputs": [
    {
     "name": "stdout",
     "output_type": "stream",
     "text": [
      "Step 1 , Loss= 142827670000.0\n",
      "Step 2 , Loss= 142823050000.0\n",
      "Step 3 , Loss= 142613430000.0\n",
      "Step 4 , Loss= 142163400000.0\n",
      "Step 5 , Loss= 141114800000.0\n",
      "Step 6 , Loss= 139182490000.0\n",
      "Step 7 , Loss= 136032270000.0\n",
      "Step 8 , Loss= 131282650000.0\n",
      "Step 9 , Loss= 124570760000.0\n",
      "Step 10 , Loss= 115585700000.0\n",
      "Step 11 , Loss= 104133165000.0\n",
      "Step 12 , Loss= 90235820000.0\n",
      "Step 13 , Loss= 74280590000.0\n",
      "Step 14 , Loss= 57235448000.0\n",
      "Step 15 , Loss= 40933360000.0\n",
      "Step 16 , Loss= 28487719000.0\n",
      "Step 17 , Loss= 24095867000.0\n",
      "Step 18 , Loss= 30559416000.0\n",
      "Step 19 , Loss= 41676214000.0\n",
      "Step 20 , Loss= 46544245000.0\n",
      "Step 21 , Loss= 42864693000.0\n",
      "Step 22 , Loss= 35103056000.0\n",
      "Step 23 , Loss= 28030013000.0\n",
      "Step 24 , Loss= 24157577000.0\n",
      "Step 25 , Loss= 23702036000.0\n",
      "Step 26 , Loss= 25514359000.0\n",
      "Step 27 , Loss= 28110500000.0\n",
      "Step 28 , Loss= 30323495000.0\n",
      "Step 29 , Loss= 31501883000.0\n",
      "Step 30 , Loss= 31447773000.0\n",
      "Step 31 , Loss= 30291177000.0\n",
      "Step 32 , Loss= 28384877000.0\n",
      "Step 33 , Loss= 26223110000.0\n",
      "Step 34 , Loss= 24354437000.0\n",
      "Step 35 , Loss= 23257602000.0\n",
      "Step 36 , Loss= 23176100000.0\n",
      "Step 37 , Loss= 23969956000.0\n",
      "Step 38 , Loss= 25113033000.0\n",
      "Step 39 , Loss= 25933836000.0\n",
      "Step 40 , Loss= 25993871000.0\n",
      "Step 41 , Loss= 25315443000.0\n",
      "Step 42 , Loss= 24290587000.0\n",
      "Step 43 , Loss= 23391914000.0\n",
      "Step 44 , Loss= 22920464000.0\n",
      "Step 45 , Loss= 22919043000.0\n",
      "Step 46 , Loss= 23232838000.0\n",
      "Step 47 , Loss= 23630377000.0\n",
      "Step 48 , Loss= 23909870000.0\n",
      "Step 49 , Loss= 23958990000.0\n",
      "Step 50 , Loss= 23771322000.0\n",
      "Step 51 , Loss= 23418860000.0\n",
      "Step 52 , Loss= 23034257000.0\n",
      "Step 53 , Loss= 22742565000.0\n",
      "Step 54 , Loss= 22623336000.0\n",
      "Step 55 , Loss= 22677412000.0\n",
      "Step 56 , Loss= 22828888000.0\n",
      "Step 57 , Loss= 22965113000.0\n",
      "Step 58 , Loss= 22996271000.0\n",
      "Step 59 , Loss= 22899386000.0\n",
      "Step 60 , Loss= 22720465000.0\n",
      "Step 61 , Loss= 22538416000.0\n",
      "Step 62 , Loss= 22418465000.0\n",
      "Step 63 , Loss= 22383190000.0\n",
      "Step 64 , Loss= 22411260000.0\n",
      "Step 65 , Loss= 22457332000.0\n",
      "Step 66 , Loss= 22477507000.0\n",
      "Step 67 , Loss= 22448400000.0\n",
      "Step 68 , Loss= 22374360000.0\n",
      "Step 69 , Loss= 22277577000.0\n",
      "Step 70 , Loss= 22192550000.0\n",
      "Step 71 , Loss= 22142681000.0\n",
      "Step 72 , Loss= 22132822000.0\n",
      "Step 73 , Loss= 22139130000.0\n",
      "Step 74 , Loss= 22132537000.0\n",
      "Step 75 , Loss= 22100244000.0\n",
      "Step 76 , Loss= 22046427000.0\n",
      "Step 77 , Loss= 21986742000.0\n",
      "Step 78 , Loss= 21936857000.0\n",
      "Step 79 , Loss= 21903462000.0\n",
      "Step 80 , Loss= 21882804000.0\n",
      "Step 81 , Loss= 21865222000.0\n",
      "Step 82 , Loss= 21841530000.0\n",
      "Step 83 , Loss= 21807655000.0\n",
      "Step 84 , Loss= 21765691000.0\n",
      "Step 85 , Loss= 21721690000.0\n",
      "Step 86 , Loss= 21681736000.0\n",
      "Step 87 , Loss= 21648536000.0\n",
      "Step 88 , Loss= 21620398000.0\n",
      "Step 89 , Loss= 21592920000.0\n",
      "Step 90 , Loss= 21562067000.0\n",
      "Step 91 , Loss= 21526497000.0\n",
      "Step 92 , Loss= 21487819000.0\n",
      "Step 93 , Loss= 21449013000.0\n",
      "Step 94 , Loss= 21412410000.0\n",
      "Step 95 , Loss= 21378437000.0\n",
      "Step 96 , Loss= 21345778000.0\n",
      "Step 97 , Loss= 21312477000.0\n",
      "Step 98 , Loss= 21277196000.0\n",
      "Step 99 , Loss= 21239855000.0\n",
      "Step 100 , Loss= 21201422000.0\n",
      "Step 101 , Loss= 21163130000.0\n",
      "Step 102 , Loss= 21125683000.0\n",
      "Step 103 , Loss= 21088926000.0\n",
      "Step 104 , Loss= 21052117000.0\n",
      "Step 105 , Loss= 21014497000.0\n",
      "Step 106 , Loss= 20975730000.0\n",
      "Step 107 , Loss= 20935997000.0\n",
      "Step 108 , Loss= 20895779000.0\n",
      "Step 109 , Loss= 20855470000.0\n",
      "Step 110 , Loss= 20815188000.0\n",
      "Step 111 , Loss= 20774738000.0\n",
      "Step 112 , Loss= 20733794000.0\n",
      "Step 113 , Loss= 20692085000.0\n",
      "Step 114 , Loss= 20649515000.0\n",
      "Step 115 , Loss= 20606194000.0\n",
      "Step 116 , Loss= 20562300000.0\n",
      "Step 117 , Loss= 20517984000.0\n",
      "Step 118 , Loss= 20473258000.0\n",
      "Step 119 , Loss= 20428000000.0\n",
      "Step 120 , Loss= 20381989000.0\n",
      "Step 121 , Loss= 20335071000.0\n",
      "Step 122 , Loss= 20287230000.0\n",
      "Step 123 , Loss= 20238574000.0\n",
      "Step 124 , Loss= 20189235000.0\n",
      "Step 125 , Loss= 20139244000.0\n",
      "Step 126 , Loss= 20088453000.0\n",
      "Step 127 , Loss= 20036653000.0\n",
      "Step 128 , Loss= 19983706000.0\n",
      "Step 129 , Loss= 19929602000.0\n",
      "Step 130 , Loss= 19874419000.0\n",
      "Step 131 , Loss= 19818203000.0\n",
      "Step 132 , Loss= 19760894000.0\n",
      "Step 133 , Loss= 19702358000.0\n",
      "Step 134 , Loss= 19642454000.0\n",
      "Step 135 , Loss= 19581120000.0\n",
      "Step 136 , Loss= 19518335000.0\n",
      "Step 137 , Loss= 19454054000.0\n",
      "Step 138 , Loss= 19388203000.0\n",
      "Step 139 , Loss= 19320674000.0\n",
      "Step 140 , Loss= 19251360000.0\n",
      "Step 141 , Loss= 19180145000.0\n",
      "Step 142 , Loss= 19106916000.0\n",
      "Step 143 , Loss= 19031568000.0\n",
      "Step 144 , Loss= 18954013000.0\n",
      "Step 145 , Loss= 18874139000.0\n",
      "Step 146 , Loss= 18791810000.0\n",
      "Step 147 , Loss= 18706852000.0\n",
      "Step 148 , Loss= 18619073000.0\n",
      "Step 149 , Loss= 18528230000.0\n",
      "Step 150 , Loss= 18433372000.0\n",
      "Step 151 , Loss= 18336485000.0\n",
      "Step 152 , Loss= 18236199000.0\n",
      "Step 153 , Loss= 18132290000.0\n",
      "Step 154 , Loss= 18024505000.0\n",
      "Step 155 , Loss= 17912530000.0\n",
      "Step 156 , Loss= 17795645000.0\n",
      "Step 157 , Loss= 17673785000.0\n",
      "Step 158 , Loss= 17548732000.0\n",
      "Step 159 , Loss= 17418037000.0\n",
      "Step 160 , Loss= 17283000000.0\n",
      "Step 161 , Loss= 17144426000.0\n",
      "Step 162 , Loss= 17001060000.0\n",
      "Step 163 , Loss= 16852887000.0\n",
      "Step 164 , Loss= 16699911000.0\n",
      "Step 165 , Loss= 16542178000.0\n",
      "Step 166 , Loss= 16379783000.0\n",
      "Step 167 , Loss= 16212878000.0\n",
      "Step 168 , Loss= 16041656000.0\n",
      "Step 169 , Loss= 15866325000.0\n",
      "Step 170 , Loss= 15687117000.0\n",
      "Step 171 , Loss= 15504285000.0\n",
      "Step 172 , Loss= 15318106000.0\n",
      "Step 173 , Loss= 15128879000.0\n",
      "Step 174 , Loss= 14936903000.0\n",
      "Step 175 , Loss= 14742492000.0\n",
      "Step 176 , Loss= 14545930000.0\n",
      "Step 177 , Loss= 14347459000.0\n",
      "Step 178 , Loss= 14147261000.0\n",
      "Step 179 , Loss= 13945396000.0\n",
      "Step 180 , Loss= 13741359000.0\n",
      "Step 181 , Loss= 13535402000.0\n",
      "Step 182 , Loss= 13328534000.0\n",
      "Step 183 , Loss= 13120930000.0\n",
      "Step 184 , Loss= 12911110000.0\n",
      "Step 185 , Loss= 12701746000.0\n",
      "Step 186 , Loss= 12491602000.0\n",
      "Step 187 , Loss= 12279988000.0\n",
      "Step 188 , Loss= 12067025000.0\n",
      "Step 189 , Loss= 11852955000.0\n",
      "Step 190 , Loss= 11638132000.0\n",
      "Step 191 , Loss= 11423028000.0\n",
      "Step 192 , Loss= 11208193000.0\n",
      "Step 193 , Loss= 10994218000.0\n",
      "Step 194 , Loss= 10781660000.0\n",
      "Step 195 , Loss= 10571030000.0\n",
      "Step 196 , Loss= 10362721000.0\n",
      "Step 197 , Loss= 10157008000.0\n",
      "Step 198 , Loss= 9954009000.0\n",
      "Step 199 , Loss= 9753638000.0\n",
      "Step 200 , Loss= 9555565000.0\n",
      "Step 201 , Loss= 9361657000.0\n",
      "Step 202 , Loss= 9171534000.0\n",
      "Step 203 , Loss= 8984177000.0\n",
      "Step 204 , Loss= 8801153000.0\n",
      "Step 205 , Loss= 8620862000.0\n",
      "Step 206 , Loss= 8443158500.0\n",
      "Step 207 , Loss= 8267709400.0\n",
      "Step 208 , Loss= 8093705000.0\n",
      "Step 209 , Loss= 7923354600.0\n",
      "Step 210 , Loss= 7754835000.0\n",
      "Step 211 , Loss= 7585960000.0\n",
      "Step 212 , Loss= 7421595600.0\n",
      "Step 213 , Loss= 7260506600.0\n",
      "Step 214 , Loss= 7101594600.0\n",
      "Step 215 , Loss= 6945564000.0\n",
      "Step 216 , Loss= 6791375000.0\n",
      "Step 217 , Loss= 6639284700.0\n",
      "Step 218 , Loss= 6489732000.0\n",
      "Step 219 , Loss= 6343209500.0\n",
      "Step 220 , Loss= 6200205000.0\n",
      "Step 221 , Loss= 6061475300.0\n",
      "Step 222 , Loss= 5926313000.0\n",
      "Step 223 , Loss= 5793522000.0\n",
      "Step 224 , Loss= 5662050000.0\n",
      "Step 225 , Loss= 5531655700.0\n",
      "Step 226 , Loss= 5404425700.0\n",
      "Step 227 , Loss= 5292957700.0\n",
      "Step 228 , Loss= 5266022000.0\n",
      "Step 229 , Loss= 5715521000.0\n",
      "Step 230 , Loss= 7324631000.0\n",
      "Step 231 , Loss= 7093164000.0\n",
      "Step 232 , Loss= 4765265000.0\n",
      "Step 233 , Loss= 6996889600.0\n",
      "Step 234 , Loss= 4702303000.0\n",
      "Step 235 , Loss= 5987300000.0\n",
      "Step 236 , Loss= 4549668400.0\n",
      "Step 237 , Loss= 5403548000.0\n",
      "Step 238 , Loss= 4395152400.0\n",
      "Step 239 , Loss= 4983530000.0\n",
      "Step 240 , Loss= 4085308700.0\n",
      "Step 241 , Loss= 4686361000.0\n",
      "Step 242 , Loss= 3860966400.0\n",
      "Step 243 , Loss= 4399322000.0\n",
      "Step 244 , Loss= 3626868000.0\n",
      "Step 245 , Loss= 4150667500.0\n",
      "Step 246 , Loss= 3453635600.0\n",
      "Step 247 , Loss= 3876449800.0\n",
      "Step 248 , Loss= 3307069700.0\n",
      "Step 249 , Loss= 3630553000.0\n",
      "Step 250 , Loss= 3174428400.0\n",
      "Step 251 , Loss= 3384853200.0\n",
      "Step 252 , Loss= 3061802200.0\n",
      "Step 253 , Loss= 3165571800.0\n",
      "Step 254 , Loss= 2940314600.0\n",
      "Step 255 , Loss= 2967613200.0\n",
      "Step 256 , Loss= 2826692900.0\n",
      "Step 257 , Loss= 2789948000.0\n",
      "Step 258 , Loss= 2704898300.0\n",
      "Step 259 , Loss= 2635672800.0\n",
      "Step 260 , Loss= 2586954800.0\n",
      "Step 261 , Loss= 2495068000.0\n",
      "Step 262 , Loss= 2468420900.0\n",
      "Step 263 , Loss= 2371868200.0\n",
      "Step 264 , Loss= 2354492000.0\n",
      "Step 265 , Loss= 2257676000.0\n",
      "Step 266 , Loss= 2244828000.0\n",
      "Step 267 , Loss= 2154722800.0\n",
      "Step 268 , Loss= 2140363900.0\n",
      "Step 269 , Loss= 2057680100.0\n",
      "Step 270 , Loss= 2041206400.0\n",
      "Step 271 , Loss= 1967906300.0\n",
      "Step 272 , Loss= 1947158900.0\n",
      "Step 273 , Loss= 1882716700.0\n",
      "Step 274 , Loss= 1858369200.0\n",
      "Step 275 , Loss= 1803257000.0\n",
      "Step 276 , Loss= 1774818300.0\n",
      "Step 277 , Loss= 1728044400.0\n",
      "Step 278 , Loss= 1696142600.0\n",
      "Step 279 , Loss= 1657393200.0\n",
      "Step 280 , Loss= 1622265300.0\n",
      "Step 281 , Loss= 1590155500.0\n",
      "Step 282 , Loss= 1552620000.0\n",
      "Step 283 , Loss= 1526232700.0\n",
      "Step 284 , Loss= 1487555600.0\n",
      "Step 285 , Loss= 1465259300.0\n",
      "Step 286 , Loss= 1426828400.0\n",
      "Step 287 , Loss= 1407011000.0\n",
      "Step 288 , Loss= 1370461800.0\n",
      "Step 289 , Loss= 1351243600.0\n"
     ]
    },
    {
     "name": "stdout",
     "output_type": "stream",
     "text": [
      "Step 290 , Loss= 1317771900.0\n",
      "Step 291 , Loss= 1297438700.0\n",
      "Step 292 , Loss= 1267879400.0\n",
      "Step 293 , Loss= 1245567900.0\n",
      "Step 294 , Loss= 1220219800.0\n",
      "Step 295 , Loss= 1196090200.0\n",
      "Step 296 , Loss= 1174485500.0\n",
      "Step 297 , Loss= 1149572400.0\n",
      "Step 298 , Loss= 1130461700.0\n",
      "Step 299 , Loss= 1106233300.0\n",
      "Step 300 , Loss= 1088087800.0\n",
      "Train Finished\n"
     ]
    }
   ],
   "source": [
    "predict = []\n",
    "\n",
    "    \n",
    "with tf.Session() as sess:\n",
    "    sess.run(tf.global_variables_initializer())\n",
    "    \n",
    "    for i in range(nsteps):\n",
    "        '''\n",
    "        batch_x, batch_y = cut_batch(train_x, train_y, batch_size, i)\n",
    "        batch_x = np.array(batch_x,float)[:,np.newaxis]\n",
    "        for j in range(len(batch_y)):\n",
    "            #add noise\n",
    "            batch_y[j]+=np.random.normal(0,0.09)\n",
    "        batch_y = np.array(batch_y,float)[:,np.newaxis]\n",
    "        '''\n",
    "        \n",
    "        \n",
    "        _,loss,acc = sess.run([train,loss_opt,accuracy],{X:train_x, y:train_y})\n",
    "        \n",
    "        if(show_step):\n",
    "            print(\"Step \" + str(i+1) + \" , Loss= \" + str(loss))\n",
    "        \n",
    "    print(\"Train Finished\")\n",
    "    \n",
    "    predict = sess.run(logits,{X:train_x})\n",
    "    "
   ]
  },
  {
   "cell_type": "code",
   "execution_count": 16,
   "metadata": {},
   "outputs": [
    {
     "name": "stdout",
     "output_type": "stream",
     "text": [
      "HW4 part 1 result here:\n"
     ]
    }
   ],
   "source": [
    "print(\"HW4 part 1 result here:\")"
   ]
  },
  {
   "cell_type": "code",
   "execution_count": 17,
   "metadata": {},
   "outputs": [
    {
     "name": "stdout",
     "output_type": "stream",
     "text": [
      "hidden layer 1: 100\n",
      "hidden layer 2: 200\n"
     ]
    },
    {
     "data": {
      "image/png": "[encoded data removed]",
      "text/plain": [
       "<Figure size 432x288 with 1 Axes>"
      ]
     },
     "metadata": {
      "needs_background": "light"
     },
     "output_type": "display_data"
    }
   ],
   "source": [
    "#plot result\n",
    "print(\"hidden layer 1: \"+str(h1)+\"\\nhidden layer 2: \"+str(h2))\n",
    "plt.scatter(train_x,train_y,color='blue')\n",
    "plt.scatter(train_x,predict, color='green')\n",
    "plt.show()\n"
   ]
  },
  {
   "cell_type": "code",
   "execution_count": null,
   "metadata": {},
   "outputs": [],
   "source": [
    "#num of units in hidden layer\n",
    "h1 = 50\n",
    "h2 = 100\n",
    "\n",
    "#construct model\n",
    "logits = nnet(X)"
   ]
  }
 ],
 "metadata": {
  "kernelspec": {
   "display_name": "Python 3",
   "language": "python",
   "name": "python3"
  },
  "language_info": {
   "codemirror_mode": {
    "name": "ipython",
    "version": 3
   },
   "file_extension": ".py",
   "mimetype": "text/x-python",
   "name": "python",
   "nbconvert_exporter": "python",
   "pygments_lexer": "ipython3",
   "version": "3.7.3"
  }
 },
 "nbformat": 4,
 "nbformat_minor": 2
}

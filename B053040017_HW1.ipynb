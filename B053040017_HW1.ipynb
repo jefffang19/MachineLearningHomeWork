{
 "cells": [
  {
   "cell_type": "code",
   "execution_count": 1,
   "metadata": {},
   "outputs": [],
   "source": [
    "import numpy as np\n",
    "\n",
    "import matplotlib.pyplot as plt"
   ]
  },
  {
   "cell_type": "code",
   "execution_count": 2,
   "metadata": {},
   "outputs": [],
   "source": [
    "def makecords(co=[]):\n",
    "    #the equation looks like co[0]x^3 + co[1]x^2 + co[2]x^1 +co[3]\n",
    "    #so let x = 1~10, gap = 0.1, Get each y's values\n",
    "    y = []\n",
    "    for i in np.arange(1,10,0.1):\n",
    "        y.append(co[0]*(i**3) + co[1]*(i**2) + co[2]*(i**1) + co[3])\n",
    "    \n",
    "    #return each y's values\n",
    "    return y    "
   ]
  },
  {
   "cell_type": "code",
   "execution_count": 18,
   "metadata": {},
   "outputs": [],
   "source": [
    "#differential of co[0]x^3 + co[1]x^2 + co[2]x^1 +co[3]\n",
    "def diff(co, x):\n",
    "    return 3*co[0]*(x**2)+2*co[1]*x+co[2]"
   ]
  },
  {
   "cell_type": "code",
   "execution_count": 4,
   "metadata": {
    "scrolled": true
   },
   "outputs": [
    {
     "name": "stdout",
     "output_type": "stream",
     "text": [
      "Input the coefficient of third-order equation: (format a, b, c, d)2,-3,1,-7\n"
     ]
    },
    {
     "data": {
      "image/png": "[encoded data removed]",
      "text/plain": [
       "<Figure size 432x288 with 1 Axes>"
      ]
     },
     "metadata": {
      "needs_background": "light"
     },
     "output_type": "display_data"
    }
   ],
   "source": [
    "isEnd=False\n",
    "while(not isEnd):\n",
    "    try:\n",
    "        #if not every element is int, goto except\n",
    "        co=eval(input(\"Input the coefficient of third-order equation: (format a, b, c, d)\"))\n",
    "        #check if num of coefficient is correct\n",
    "        if(not isinstance(co,int) and len(co)==4):\n",
    "            isEnd=True\n",
    "        else: isEnd=False\n",
    "        if(isEnd): break\n",
    "        print(\"Input Format Error\")\n",
    "    except:\n",
    "        print(\"Input Format Error\")\n",
    "\n",
    "    \n",
    "line=plt.plot(np.arange(1,10,0.1),makecords(co))\n",
    "plt.setp(line,color='purple')\n",
    "plt.show()"
   ]
  },
  {
   "cell_type": "code",
   "execution_count": 7,
   "metadata": {},
   "outputs": [
    {
     "name": "stdout",
     "output_type": "stream",
     "text": [
      "Input the coordinates of five points:9,20,1,3,4,7,24,1,30,20\n"
     ]
    },
    {
     "data": {
      "image/png": "[encoded data removed]",
      "text/plain": [
       "<Figure size 432x288 with 1 Axes>"
      ]
     },
     "metadata": {
      "needs_background": "light"
     },
     "output_type": "display_data"
    }
   ],
   "source": [
    "while(1):\n",
    "    try:\n",
    "        nodes=eval(input(\"Input the coordinates of five points:\"))\n",
    "        #check if num of coefficient is correct\n",
    "        if(not isinstance(nodes,int) and len(nodes)==10):\n",
    "            isEnd=True\n",
    "        else: isEnd=False\n",
    "        if(isEnd): break\n",
    "        print(\"Input Format Error\")\n",
    "    except:\n",
    "        print(\"Input Format Error\")\n",
    "\n",
    "line=plt.plot(np.arange(1,10,0.1),makecords(co),label='equation')\n",
    "plt.setp(line,color='purple')\n",
    "for i in range(0,9,2):\n",
    "    #give the dots corresponding color according to the y's value\n",
    "    if(nodes[i+1] > co[0]*(nodes[i]**3) + co[1]*(nodes[i]**2) + co[2]*(nodes[i]**1) + co[3]):\n",
    "        plt.plot(nodes[i],nodes[i+1],'go')\n",
    "    elif(nodes[i+1] < co[0]*(nodes[i]**3) + co[1]*(nodes[i]**2) + co[2]*(nodes[i]**1) + co[3]):\n",
    "        plt.plot(nodes[i],nodes[i+1],'bo')\n",
    "    elif(nodes[i+1] == co[0]*(nodes[i]**3) + co[1]*(nodes[i]**2) + co[2]*(nodes[i]**1) + co[3]):\n",
    "        plt.plot(nodes[i],nodes[i+1],'ro')\n",
    "plt.legend(loc='upper right')\n",
    "plt.title(\"My Graph\")\n",
    "plt.show()"
   ]
  },
  {
   "cell_type": "code",
   "execution_count": 27,
   "metadata": {},
   "outputs": [
    {
     "name": "stdout",
     "output_type": "stream",
     "text": [
      "1\n",
      "1.060599999999999\n",
      "1.1261836434159989\n",
      "1.1973003725989253\n",
      "1.27457715655658\n",
      "1.3587319381138698\n",
      "1.450589870283058\n",
      "1.5511030203176883\n",
      "1.6613744106578672\n",
      "1.7826875179776325\n",
      "1.9165426871050677\n",
      "2.064702367106875\n",
      "2.2292476869989457\n",
      "2.412649722622051\n",
      "2.6178599576396255\n",
      "2.8484260478342236\n",
      "3.108641263694894\n",
      "3.4037392209192943\n",
      "3.740150185529389\n",
      "4.1258420964783245\n",
      "4.570779648720491\n",
      "5.087550198520574\n",
      "5.692228966239835\n",
      "6.405593172591582\n",
      "7.254854180996512\n",
      "8.276173935849906\n",
      "9.51839495903221\n",
      "11.048693892886803\n",
      "12.96136694047729\n",
      "15.391870569442709\n",
      "18.539985624674905\n",
      "22.709445552764713\n",
      "28.378626926860484\n",
      "36.33294719701031\n",
      "47.92750222108407\n",
      "65.64514255636325\n",
      "94.3858621955927\n",
      "144.77262626725445\n",
      "242.83192340424048\n",
      "463.7836868973667\n",
      "y max happens when x=  9.296625175764536\n"
     ]
    }
   ],
   "source": [
    "#find maximan in range x=0~10\n",
    "x=1\n",
    "learning_rate=0.01\n",
    "epn=0.00001\n",
    "while(1):\n",
    "    x_new=x+learning_rate*(diff(co,x))\n",
    "    if(x_new-x)<epn:\n",
    "        break\n",
    "    elif(x_new>=10): break \n",
    "    #print(x_new)\n",
    "    x=x_new\n",
    "    \n",
    "\n",
    "\n",
    "print(\"y max happens when x= \",x)"
   ]
  },
  {
   "cell_type": "code",
   "execution_count": null,
   "metadata": {},
   "outputs": [],
   "source": []
  }
 ],
 "metadata": {
  "kernelspec": {
   "display_name": "Python 3",
   "language": "python",
   "name": "python3"
  },
  "language_info": {
   "codemirror_mode": {
    "name": "ipython",
    "version": 3
   },
   "file_extension": ".py",
   "mimetype": "text/x-python",
   "name": "python",
   "nbconvert_exporter": "python",
   "pygments_lexer": "ipython3",
   "version": "3.7.3"
  }
 },
 "nbformat": 4,
 "nbformat_minor": 2
}

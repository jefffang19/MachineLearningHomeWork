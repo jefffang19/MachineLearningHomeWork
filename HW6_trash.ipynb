{
 "cells": [
  {
   "cell_type": "code",
   "execution_count": 1,
   "metadata": {},
   "outputs": [],
   "source": [
    "import numpy as np \n",
    "from tensorflow.keras.datasets import mnist\n",
    "from tensorflow.keras.models import Model \n",
    "from tensorflow.keras.layers import Dense, Input\n",
    "from sklearn.model_selection import train_test_split\n",
    "import matplotlib.pyplot as plt\n"
   ]
  },
  {
   "cell_type": "code",
   "execution_count": 2,
   "metadata": {},
   "outputs": [],
   "source": [
    "import math\n",
    "\n",
    "#origin  y = 10 + x*x\n",
    "def get_y(x):\n",
    "    # x1 - cos(0.2*pi*x2) = 0.5\n",
    "    #return x1\n",
    "    pi = 3.141592654\n",
    "    #return 0.5 + math.cos(0.2*pi*x)\n",
    "    return x\n",
    "    \n",
    "\n",
    "\n",
    "def sample_data(n=10000, scale=100):\n",
    "    data = []\n",
    "\n",
    "    x = scale*(np.random.random_sample((n,))-0.5)\n",
    "\n",
    "    for i in range(n):\n",
    "        yi = get_y(x[i])\n",
    "        #data.append([x[i], yi])\n",
    "        data.append([x[i],yi])\n",
    "\n",
    "    return np.array(data)"
   ]
  },
  {
   "cell_type": "code",
   "execution_count": 3,
   "metadata": {},
   "outputs": [
    {
     "data": {
      "text/plain": [
       "(10000, 2)"
      ]
     },
     "execution_count": 3,
     "metadata": {},
     "output_type": "execute_result"
    }
   ],
   "source": [
    "t = sample_data(10000,10)\n",
    "t.shape"
   ]
  },
  {
   "cell_type": "code",
   "execution_count": 4,
   "metadata": {},
   "outputs": [
    {
     "data": {
      "text/plain": [
       "(10000, 2)"
      ]
     },
     "execution_count": 4,
     "metadata": {},
     "output_type": "execute_result"
    }
   ],
   "source": [
    "t_noise = t + 0.3 * np.random.normal(loc=0, scale=1, size=t.shape)\n",
    "t_noise.shape"
   ]
  },
  {
   "cell_type": "code",
   "execution_count": 5,
   "metadata": {},
   "outputs": [
    {
     "name": "stdout",
     "output_type": "stream",
     "text": [
      "WARNING:tensorflow:From /home/jeff/anaconda3/lib/python3.7/site-packages/tensorflow/python/ops/init_ops.py:1251: calling VarianceScaling.__init__ (from tensorflow.python.ops.init_ops) with dtype is deprecated and will be removed in a future version.\n",
      "Instructions for updating:\n",
      "Call initializer instance with the dtype argument instead of passing it to the constructor\n"
     ]
    }
   ],
   "source": [
    "# compress dim to 1\n",
    "encoding_dim = 1\n",
    " \n",
    "# this is our input placeholder\n",
    "input_img = Input(shape=(2,))\n",
    " \n",
    "# encode\n",
    "encoded = Dense(128, activation='relu')(input_img)\n",
    "encoded = Dense(64, activation='relu')(encoded)\n",
    "encoder_output = Dense(encoding_dim, activation='relu')(encoded)\n",
    " \n",
    "# decode\n",
    "decoded = Dense(64, activation='relu')(encoder_output)\n",
    "decoded = Dense(128, activation='relu')(decoded)\n",
    "decoded = Dense(2, activation='sigmoid')(decoded)"
   ]
  },
  {
   "cell_type": "code",
   "execution_count": 6,
   "metadata": {},
   "outputs": [],
   "source": [
    "# compress dim to 1\n",
    "encoding_dim = 1\n",
    " \n",
    "# this is our input placeholder\n",
    "input_img = Input(shape=(2,))\n",
    " \n",
    "# encode\n",
    "encoder_output = Dense(encoding_dim, activation='relu')(input_img)\n",
    " \n",
    "# decode\n",
    "decoded = Dense(2, activation='sigmoid')(encoder_output)"
   ]
  },
  {
   "cell_type": "code",
   "execution_count": 9,
   "metadata": {},
   "outputs": [
    {
     "name": "stdout",
     "output_type": "stream",
     "text": [
      "Model: \"model\"\n",
      "_________________________________________________________________\n",
      "Layer (type)                 Output Shape              Param #   \n",
      "=================================================================\n",
      "input_2 (InputLayer)         [(None, 2)]               0         \n",
      "_________________________________________________________________\n",
      "dense_6 (Dense)              (None, 1)                 3         \n",
      "_________________________________________________________________\n",
      "dense_7 (Dense)              (None, 2)                 4         \n",
      "=================================================================\n",
      "Total params: 7\n",
      "Trainable params: 7\n",
      "Non-trainable params: 0\n",
      "_________________________________________________________________\n"
     ]
    }
   ],
   "source": [
    "autoencoder.summary()"
   ]
  },
  {
   "cell_type": "code",
   "execution_count": 8,
   "metadata": {
    "scrolled": true
   },
   "outputs": [
    {
     "name": "stdout",
     "output_type": "stream",
     "text": [
      "Epoch 1/100\n",
      "10000/10000 [==============================] - 2s 194us/sample - loss: 8.8587\n",
      "Epoch 2/100\n",
      "10000/10000 [==============================] - 0s 25us/sample - loss: 8.8095\n",
      "Epoch 3/100\n",
      "10000/10000 [==============================] - 0s 15us/sample - loss: 8.7620\n",
      "Epoch 4/100\n",
      "10000/10000 [==============================] - 0s 14us/sample - loss: 8.7176\n",
      "Epoch 5/100\n",
      "10000/10000 [==============================] - 0s 15us/sample - loss: 8.6765\n",
      "Epoch 6/100\n",
      "10000/10000 [==============================] - 0s 13us/sample - loss: 8.6387\n",
      "Epoch 7/100\n",
      "10000/10000 [==============================] - 0s 13us/sample - loss: 8.6043\n",
      "Epoch 8/100\n",
      "10000/10000 [==============================] - 0s 12us/sample - loss: 8.5719\n",
      "Epoch 9/100\n",
      "10000/10000 [==============================] - 0s 12us/sample - loss: 8.5416\n",
      "Epoch 10/100\n",
      "10000/10000 [==============================] - 0s 15us/sample - loss: 8.5128\n",
      "Epoch 11/100\n",
      "10000/10000 [==============================] - 0s 14us/sample - loss: 8.4853\n",
      "Epoch 12/100\n",
      "10000/10000 [==============================] - 0s 22us/sample - loss: 8.4584\n",
      "Epoch 13/100\n",
      "10000/10000 [==============================] - 0s 18us/sample - loss: 8.4320\n",
      "Epoch 14/100\n",
      "10000/10000 [==============================] - 0s 13us/sample - loss: 8.4054\n",
      "Epoch 15/100\n",
      "10000/10000 [==============================] - 0s 13us/sample - loss: 8.3770\n",
      "Epoch 16/100\n",
      "10000/10000 [==============================] - 0s 10us/sample - loss: 8.3449\n",
      "Epoch 17/100\n",
      "10000/10000 [==============================] - 0s 12us/sample - loss: 8.3037\n",
      "Epoch 18/100\n",
      "10000/10000 [==============================] - 0s 22us/sample - loss: 8.2397\n",
      "Epoch 19/100\n",
      "10000/10000 [==============================] - 0s 25us/sample - loss: 8.1204\n",
      "Epoch 20/100\n",
      "10000/10000 [==============================] - 0s 12us/sample - loss: 7.9039\n",
      "Epoch 21/100\n",
      "10000/10000 [==============================] - 0s 23us/sample - loss: 7.5921\n",
      "Epoch 22/100\n",
      "10000/10000 [==============================] - 0s 29us/sample - loss: 7.3011\n",
      "Epoch 23/100\n",
      "10000/10000 [==============================] - 0s 18us/sample - loss: 7.1323\n",
      "Epoch 24/100\n",
      "10000/10000 [==============================] - 0s 14us/sample - loss: 7.0434\n",
      "Epoch 25/100\n",
      "10000/10000 [==============================] - 0s 14us/sample - loss: 6.9884\n",
      "Epoch 26/100\n",
      "10000/10000 [==============================] - 0s 22us/sample - loss: 6.9486\n",
      "Epoch 27/100\n",
      "10000/10000 [==============================] - 0s 16us/sample - loss: 6.9169\n",
      "Epoch 28/100\n",
      "10000/10000 [==============================] - 0s 24us/sample - loss: 6.8900\n",
      "Epoch 29/100\n",
      "10000/10000 [==============================] - 0s 24us/sample - loss: 6.8661\n",
      "Epoch 30/100\n",
      "10000/10000 [==============================] - 0s 19us/sample - loss: 6.8446\n",
      "Epoch 31/100\n",
      "10000/10000 [==============================] - 0s 12us/sample - loss: 6.8249\n",
      "Epoch 32/100\n",
      "10000/10000 [==============================] - 0s 15us/sample - loss: 6.8066\n",
      "Epoch 33/100\n",
      "10000/10000 [==============================] - 0s 12us/sample - loss: 6.7893\n",
      "Epoch 34/100\n",
      "10000/10000 [==============================] - 0s 12us/sample - loss: 6.7732\n",
      "Epoch 35/100\n",
      "10000/10000 [==============================] - 0s 13us/sample - loss: 6.7578\n",
      "Epoch 36/100\n",
      "10000/10000 [==============================] - 0s 29us/sample - loss: 6.7432\n",
      "Epoch 37/100\n",
      "10000/10000 [==============================] - 0s 16us/sample - loss: 6.7294\n",
      "Epoch 38/100\n",
      "10000/10000 [==============================] - 0s 13us/sample - loss: 6.7162\n",
      "Epoch 39/100\n",
      "10000/10000 [==============================] - 0s 17us/sample - loss: 6.7036\n",
      "Epoch 40/100\n",
      "10000/10000 [==============================] - 0s 16us/sample - loss: 6.6916\n",
      "Epoch 41/100\n",
      "10000/10000 [==============================] - 0s 16us/sample - loss: 6.6800\n",
      "Epoch 42/100\n",
      "10000/10000 [==============================] - 0s 15us/sample - loss: 6.6688\n",
      "Epoch 43/100\n",
      "10000/10000 [==============================] - 0s 25us/sample - loss: 6.6581\n",
      "Epoch 44/100\n",
      "10000/10000 [==============================] - 0s 17us/sample - loss: 6.6478\n",
      "Epoch 45/100\n",
      "10000/10000 [==============================] - 0s 23us/sample - loss: 6.6379\n",
      "Epoch 46/100\n",
      "10000/10000 [==============================] - 0s 19us/sample - loss: 6.6283\n",
      "Epoch 47/100\n",
      "10000/10000 [==============================] - 0s 20us/sample - loss: 6.6191\n",
      "Epoch 48/100\n",
      "10000/10000 [==============================] - 0s 21us/sample - loss: 6.6102\n",
      "Epoch 49/100\n",
      "10000/10000 [==============================] - 0s 25us/sample - loss: 6.6017\n",
      "Epoch 50/100\n",
      "10000/10000 [==============================] - 0s 20us/sample - loss: 6.5935\n",
      "Epoch 51/100\n",
      "10000/10000 [==============================] - 0s 24us/sample - loss: 6.5855\n",
      "Epoch 52/100\n",
      "10000/10000 [==============================] - 0s 20us/sample - loss: 6.5777\n",
      "Epoch 53/100\n",
      "10000/10000 [==============================] - 0s 19us/sample - loss: 6.5702\n",
      "Epoch 54/100\n",
      "10000/10000 [==============================] - 0s 19us/sample - loss: 6.5631\n",
      "Epoch 55/100\n",
      "10000/10000 [==============================] - 0s 21us/sample - loss: 6.5562\n",
      "Epoch 56/100\n",
      "10000/10000 [==============================] - 0s 18us/sample - loss: 6.5494\n",
      "Epoch 57/100\n",
      "10000/10000 [==============================] - 0s 17us/sample - loss: 6.5429\n",
      "Epoch 58/100\n",
      "10000/10000 [==============================] - 0s 20us/sample - loss: 6.5367\n",
      "Epoch 59/100\n",
      "10000/10000 [==============================] - 0s 18us/sample - loss: 6.5306\n",
      "Epoch 60/100\n",
      "10000/10000 [==============================] - 0s 21us/sample - loss: 6.5247\n",
      "Epoch 61/100\n",
      "10000/10000 [==============================] - 0s 19us/sample - loss: 6.5188\n",
      "Epoch 62/100\n",
      "10000/10000 [==============================] - 0s 18us/sample - loss: 6.5133\n",
      "Epoch 63/100\n",
      "10000/10000 [==============================] - 0s 11us/sample - loss: 6.5079\n",
      "Epoch 64/100\n",
      "10000/10000 [==============================] - 0s 12us/sample - loss: 6.5027\n",
      "Epoch 65/100\n",
      "10000/10000 [==============================] - 0s 11us/sample - loss: 6.4976\n",
      "Epoch 66/100\n",
      "10000/10000 [==============================] - 0s 11us/sample - loss: 6.4926\n",
      "Epoch 67/100\n",
      "10000/10000 [==============================] - 0s 11us/sample - loss: 6.4878\n",
      "Epoch 68/100\n",
      "10000/10000 [==============================] - 0s 19us/sample - loss: 6.4832\n",
      "Epoch 69/100\n",
      "10000/10000 [==============================] - 0s 19us/sample - loss: 6.4786\n",
      "Epoch 70/100\n",
      "10000/10000 [==============================] - 0s 12us/sample - loss: 6.4742\n",
      "Epoch 71/100\n",
      "10000/10000 [==============================] - 0s 14us/sample - loss: 6.4699\n",
      "Epoch 72/100\n",
      "10000/10000 [==============================] - 0s 13us/sample - loss: 6.4658\n",
      "Epoch 73/100\n",
      "10000/10000 [==============================] - 0s 14us/sample - loss: 6.4617\n",
      "Epoch 74/100\n",
      "10000/10000 [==============================] - 0s 15us/sample - loss: 6.4578\n",
      "Epoch 75/100\n",
      "10000/10000 [==============================] - 0s 14us/sample - loss: 6.4539\n",
      "Epoch 76/100\n",
      "10000/10000 [==============================] - 0s 14us/sample - loss: 6.4502\n",
      "Epoch 77/100\n",
      "10000/10000 [==============================] - 0s 15us/sample - loss: 6.4465\n",
      "Epoch 78/100\n",
      "10000/10000 [==============================] - 0s 22us/sample - loss: 6.4429\n",
      "Epoch 79/100\n",
      "10000/10000 [==============================] - 0s 20us/sample - loss: 6.4395\n",
      "Epoch 80/100\n",
      "10000/10000 [==============================] - 0s 25us/sample - loss: 6.4361\n",
      "Epoch 81/100\n",
      "10000/10000 [==============================] - 0s 19us/sample - loss: 6.4328\n",
      "Epoch 82/100\n",
      "10000/10000 [==============================] - 0s 25us/sample - loss: 6.4296\n",
      "Epoch 83/100\n",
      "10000/10000 [==============================] - 0s 22us/sample - loss: 6.4264\n",
      "Epoch 84/100\n",
      "10000/10000 [==============================] - 0s 20us/sample - loss: 6.4234\n",
      "Epoch 85/100\n",
      "10000/10000 [==============================] - 0s 23us/sample - loss: 6.4204\n",
      "Epoch 86/100\n",
      "10000/10000 [==============================] - 0s 26us/sample - loss: 6.4176\n",
      "Epoch 87/100\n",
      "10000/10000 [==============================] - 0s 25us/sample - loss: 6.4148\n",
      "Epoch 88/100\n",
      "10000/10000 [==============================] - 0s 13us/sample - loss: 6.4120\n",
      "Epoch 89/100\n",
      "10000/10000 [==============================] - 0s 15us/sample - loss: 6.4093\n",
      "Epoch 90/100\n",
      "10000/10000 [==============================] - 0s 27us/sample - loss: 6.4067\n",
      "Epoch 91/100\n",
      "10000/10000 [==============================] - 0s 14us/sample - loss: 6.4042\n",
      "Epoch 92/100\n"
     ]
    },
    {
     "name": "stdout",
     "output_type": "stream",
     "text": [
      "10000/10000 [==============================] - 0s 13us/sample - loss: 6.4017\n",
      "Epoch 93/100\n",
      "10000/10000 [==============================] - 0s 12us/sample - loss: 6.3993\n",
      "Epoch 94/100\n",
      "10000/10000 [==============================] - 0s 11us/sample - loss: 6.3969\n",
      "Epoch 95/100\n",
      "10000/10000 [==============================] - 0s 25us/sample - loss: 6.3946\n",
      "Epoch 96/100\n",
      "10000/10000 [==============================] - 0s 21us/sample - loss: 6.3923\n",
      "Epoch 97/100\n",
      "10000/10000 [==============================] - 0s 12us/sample - loss: 6.3901\n",
      "Epoch 98/100\n",
      "10000/10000 [==============================] - 0s 17us/sample - loss: 6.3879\n",
      "Epoch 99/100\n",
      "10000/10000 [==============================] - 0s 14us/sample - loss: 6.3858\n",
      "Epoch 100/100\n",
      "10000/10000 [==============================] - 0s 22us/sample - loss: 6.3837\n"
     ]
    },
    {
     "data": {
      "text/plain": [
       "<tensorflow.python.keras.callbacks.History at 0x7ff84d334710>"
      ]
     },
     "execution_count": 8,
     "metadata": {},
     "output_type": "execute_result"
    }
   ],
   "source": [
    "# construct model\n",
    "autoencoder = Model(inputs=input_img, outputs=decoded)\n",
    " \n",
    "# construct encoder \n",
    "encoder = Model(inputs=input_img, outputs=encoder_output)\n",
    "\n",
    "# compile autoencoder\n",
    "autoencoder.compile(optimizer='adam', loss='mse')\n",
    " \n",
    "# training\n",
    "autoencoder.fit(t_noise,t, epochs=100, batch_size=256, shuffle=True)\n"
   ]
  },
  {
   "cell_type": "code",
   "execution_count": 10,
   "metadata": {},
   "outputs": [
    {
     "name": "stdout",
     "output_type": "stream",
     "text": [
      "WARNING:tensorflow:Model inputs must come from `tf.keras.Input` (thus holding past layer metadata), they cannot be the output of a previous non-Input layer. Here, a tensor specified as input to \"model_2\" was not an Input tensor, it was generated by layer dense_6.\n",
      "Note that input tensors are instantiated via `tensor = tf.keras.Input(shape)`.\n",
      "The tensor that caused the issue was: dense_6/Relu:0\n"
     ]
    },
    {
     "ename": "ValueError",
     "evalue": "Graph disconnected: cannot obtain value for tensor Tensor(\"input_2:0\", shape=(?, 2), dtype=float32) at layer \"input_2\". The following previous layers were accessed without issue: []",
     "output_type": "error",
     "traceback": [
      "\u001b[0;31m---------------------------------------------------------------------------\u001b[0m",
      "\u001b[0;31mValueError\u001b[0m                                Traceback (most recent call last)",
      "\u001b[0;32m<ipython-input-10-c65e60a1fc2c>\u001b[0m in \u001b[0;36m<module>\u001b[0;34m\u001b[0m\n\u001b[1;32m      1\u001b[0m \u001b[0;31m# decoder\u001b[0m\u001b[0;34m\u001b[0m\u001b[0;34m\u001b[0m\u001b[0;34m\u001b[0m\u001b[0m\n\u001b[0;32m----> 2\u001b[0;31m \u001b[0mdecoder\u001b[0m \u001b[0;34m=\u001b[0m \u001b[0mModel\u001b[0m\u001b[0;34m(\u001b[0m\u001b[0minputs\u001b[0m\u001b[0;34m=\u001b[0m\u001b[0mencoder_output\u001b[0m\u001b[0;34m,\u001b[0m \u001b[0moutputs\u001b[0m\u001b[0;34m=\u001b[0m\u001b[0mdecoded\u001b[0m\u001b[0;34m)\u001b[0m\u001b[0;34m\u001b[0m\u001b[0;34m\u001b[0m\u001b[0m\n\u001b[0m",
      "\u001b[0;32m~/anaconda3/lib/python3.7/site-packages/tensorflow/python/keras/engine/training.py\u001b[0m in \u001b[0;36m__init__\u001b[0;34m(self, *args, **kwargs)\u001b[0m\n\u001b[1;32m    127\u001b[0m \u001b[0;34m\u001b[0m\u001b[0m\n\u001b[1;32m    128\u001b[0m   \u001b[0;32mdef\u001b[0m \u001b[0m__init__\u001b[0m\u001b[0;34m(\u001b[0m\u001b[0mself\u001b[0m\u001b[0;34m,\u001b[0m \u001b[0;34m*\u001b[0m\u001b[0margs\u001b[0m\u001b[0;34m,\u001b[0m \u001b[0;34m**\u001b[0m\u001b[0mkwargs\u001b[0m\u001b[0;34m)\u001b[0m\u001b[0;34m:\u001b[0m\u001b[0;34m\u001b[0m\u001b[0;34m\u001b[0m\u001b[0m\n\u001b[0;32m--> 129\u001b[0;31m     \u001b[0msuper\u001b[0m\u001b[0;34m(\u001b[0m\u001b[0mModel\u001b[0m\u001b[0;34m,\u001b[0m \u001b[0mself\u001b[0m\u001b[0;34m)\u001b[0m\u001b[0;34m.\u001b[0m\u001b[0m__init__\u001b[0m\u001b[0;34m(\u001b[0m\u001b[0;34m*\u001b[0m\u001b[0margs\u001b[0m\u001b[0;34m,\u001b[0m \u001b[0;34m**\u001b[0m\u001b[0mkwargs\u001b[0m\u001b[0;34m)\u001b[0m\u001b[0;34m\u001b[0m\u001b[0;34m\u001b[0m\u001b[0m\n\u001b[0m\u001b[1;32m    130\u001b[0m     \u001b[0;31m# initializing _distribution_strategy here since it is possible to call\u001b[0m\u001b[0;34m\u001b[0m\u001b[0;34m\u001b[0m\u001b[0;34m\u001b[0m\u001b[0m\n\u001b[1;32m    131\u001b[0m     \u001b[0;31m# predict on a model without compiling it.\u001b[0m\u001b[0;34m\u001b[0m\u001b[0;34m\u001b[0m\u001b[0;34m\u001b[0m\u001b[0m\n",
      "\u001b[0;32m~/anaconda3/lib/python3.7/site-packages/tensorflow/python/keras/engine/network.py\u001b[0m in \u001b[0;36m__init__\u001b[0;34m(self, *args, **kwargs)\u001b[0m\n\u001b[1;32m    160\u001b[0m         'inputs' in kwargs and 'outputs' in kwargs):\n\u001b[1;32m    161\u001b[0m       \u001b[0;31m# Graph network\u001b[0m\u001b[0;34m\u001b[0m\u001b[0;34m\u001b[0m\u001b[0;34m\u001b[0m\u001b[0m\n\u001b[0;32m--> 162\u001b[0;31m       \u001b[0mself\u001b[0m\u001b[0;34m.\u001b[0m\u001b[0m_init_graph_network\u001b[0m\u001b[0;34m(\u001b[0m\u001b[0;34m*\u001b[0m\u001b[0margs\u001b[0m\u001b[0;34m,\u001b[0m \u001b[0;34m**\u001b[0m\u001b[0mkwargs\u001b[0m\u001b[0;34m)\u001b[0m\u001b[0;34m\u001b[0m\u001b[0;34m\u001b[0m\u001b[0m\n\u001b[0m\u001b[1;32m    163\u001b[0m     \u001b[0;32melse\u001b[0m\u001b[0;34m:\u001b[0m\u001b[0;34m\u001b[0m\u001b[0;34m\u001b[0m\u001b[0m\n\u001b[1;32m    164\u001b[0m       \u001b[0;31m# Subclassed network\u001b[0m\u001b[0;34m\u001b[0m\u001b[0;34m\u001b[0m\u001b[0;34m\u001b[0m\u001b[0m\n",
      "\u001b[0;32m~/anaconda3/lib/python3.7/site-packages/tensorflow/python/training/tracking/base.py\u001b[0m in \u001b[0;36m_method_wrapper\u001b[0;34m(self, *args, **kwargs)\u001b[0m\n\u001b[1;32m    455\u001b[0m     \u001b[0mself\u001b[0m\u001b[0;34m.\u001b[0m\u001b[0m_self_setattr_tracking\u001b[0m \u001b[0;34m=\u001b[0m \u001b[0;32mFalse\u001b[0m  \u001b[0;31m# pylint: disable=protected-access\u001b[0m\u001b[0;34m\u001b[0m\u001b[0;34m\u001b[0m\u001b[0m\n\u001b[1;32m    456\u001b[0m     \u001b[0;32mtry\u001b[0m\u001b[0;34m:\u001b[0m\u001b[0;34m\u001b[0m\u001b[0;34m\u001b[0m\u001b[0m\n\u001b[0;32m--> 457\u001b[0;31m       \u001b[0mresult\u001b[0m \u001b[0;34m=\u001b[0m \u001b[0mmethod\u001b[0m\u001b[0;34m(\u001b[0m\u001b[0mself\u001b[0m\u001b[0;34m,\u001b[0m \u001b[0;34m*\u001b[0m\u001b[0margs\u001b[0m\u001b[0;34m,\u001b[0m \u001b[0;34m**\u001b[0m\u001b[0mkwargs\u001b[0m\u001b[0;34m)\u001b[0m\u001b[0;34m\u001b[0m\u001b[0;34m\u001b[0m\u001b[0m\n\u001b[0m\u001b[1;32m    458\u001b[0m     \u001b[0;32mfinally\u001b[0m\u001b[0;34m:\u001b[0m\u001b[0;34m\u001b[0m\u001b[0;34m\u001b[0m\u001b[0m\n\u001b[1;32m    459\u001b[0m       \u001b[0mself\u001b[0m\u001b[0;34m.\u001b[0m\u001b[0m_self_setattr_tracking\u001b[0m \u001b[0;34m=\u001b[0m \u001b[0mprevious_value\u001b[0m  \u001b[0;31m# pylint: disable=protected-access\u001b[0m\u001b[0;34m\u001b[0m\u001b[0;34m\u001b[0m\u001b[0m\n",
      "\u001b[0;32m~/anaconda3/lib/python3.7/site-packages/tensorflow/python/keras/engine/network.py\u001b[0m in \u001b[0;36m_init_graph_network\u001b[0;34m(self, inputs, outputs, name, **kwargs)\u001b[0m\n\u001b[1;32m    313\u001b[0m     \u001b[0;31m# Keep track of the network's nodes and layers.\u001b[0m\u001b[0;34m\u001b[0m\u001b[0;34m\u001b[0m\u001b[0;34m\u001b[0m\u001b[0m\n\u001b[1;32m    314\u001b[0m     nodes, nodes_by_depth, layers, layers_by_depth = _map_graph_network(\n\u001b[0;32m--> 315\u001b[0;31m         self.inputs, self.outputs)\n\u001b[0m\u001b[1;32m    316\u001b[0m     \u001b[0mself\u001b[0m\u001b[0;34m.\u001b[0m\u001b[0m_network_nodes\u001b[0m \u001b[0;34m=\u001b[0m \u001b[0mnodes\u001b[0m\u001b[0;34m\u001b[0m\u001b[0;34m\u001b[0m\u001b[0m\n\u001b[1;32m    317\u001b[0m     \u001b[0mself\u001b[0m\u001b[0;34m.\u001b[0m\u001b[0m_nodes_by_depth\u001b[0m \u001b[0;34m=\u001b[0m \u001b[0mnodes_by_depth\u001b[0m\u001b[0;34m\u001b[0m\u001b[0;34m\u001b[0m\u001b[0m\n",
      "\u001b[0;32m~/anaconda3/lib/python3.7/site-packages/tensorflow/python/keras/engine/network.py\u001b[0m in \u001b[0;36m_map_graph_network\u001b[0;34m(inputs, outputs)\u001b[0m\n\u001b[1;32m   1848\u001b[0m                              \u001b[0;34m'The following previous layers '\u001b[0m\u001b[0;34m\u001b[0m\u001b[0;34m\u001b[0m\u001b[0m\n\u001b[1;32m   1849\u001b[0m                              \u001b[0;34m'were accessed without issue: '\u001b[0m \u001b[0;34m+\u001b[0m\u001b[0;34m\u001b[0m\u001b[0;34m\u001b[0m\u001b[0m\n\u001b[0;32m-> 1850\u001b[0;31m                              str(layers_with_complete_input))\n\u001b[0m\u001b[1;32m   1851\u001b[0m         \u001b[0;32mfor\u001b[0m \u001b[0mx\u001b[0m \u001b[0;32min\u001b[0m \u001b[0mnest\u001b[0m\u001b[0;34m.\u001b[0m\u001b[0mflatten\u001b[0m\u001b[0;34m(\u001b[0m\u001b[0mnode\u001b[0m\u001b[0;34m.\u001b[0m\u001b[0moutput_tensors\u001b[0m\u001b[0;34m)\u001b[0m\u001b[0;34m:\u001b[0m\u001b[0;34m\u001b[0m\u001b[0;34m\u001b[0m\u001b[0m\n\u001b[1;32m   1852\u001b[0m           \u001b[0mcomputable_tensors\u001b[0m\u001b[0;34m.\u001b[0m\u001b[0mappend\u001b[0m\u001b[0;34m(\u001b[0m\u001b[0mx\u001b[0m\u001b[0;34m)\u001b[0m\u001b[0;34m\u001b[0m\u001b[0;34m\u001b[0m\u001b[0m\n",
      "\u001b[0;31mValueError\u001b[0m: Graph disconnected: cannot obtain value for tensor Tensor(\"input_2:0\", shape=(?, 2), dtype=float32) at layer \"input_2\". The following previous layers were accessed without issue: []"
     ]
    }
   ],
   "source": [
    "\n",
    "# decoder\n",
    "decoder = Model(inputs=encoder_output, outputs=decoded)\n"
   ]
  },
  {
   "cell_type": "code",
   "execution_count": 124,
   "metadata": {},
   "outputs": [
    {
     "data": {
      "image/png": "[encoded data removed]",
      "text/plain": [
       "<Figure size 432x288 with 1 Axes>"
      ]
     },
     "metadata": {
      "needs_background": "light"
     },
     "output_type": "display_data"
    }
   ],
   "source": [
    "# plotting\n",
    "autoencoder_out = autoencoder.predict(t)\n",
    "plt.scatter(t[:,0],t[:,1])\n",
    "plt.scatter(autoencoder_out[:, 0], autoencoder_out[:, 1])\n",
    "plt.show()"
   ]
  },
  {
   "cell_type": "code",
   "execution_count": null,
   "metadata": {},
   "outputs": [],
   "source": []
  }
 ],
 "metadata": {
  "kernelspec": {
   "display_name": "Python 3",
   "language": "python",
   "name": "python3"
  },
  "language_info": {
   "codemirror_mode": {
    "name": "ipython",
    "version": 3
   },
   "file_extension": ".py",
   "mimetype": "text/x-python",
   "name": "python",
   "nbconvert_exporter": "python",
   "pygments_lexer": "ipython3",
   "version": "3.7.3"
  }
 },
 "nbformat": 4,
 "nbformat_minor": 2
}
